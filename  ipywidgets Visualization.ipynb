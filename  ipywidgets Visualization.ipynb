{
 "cells": [
  {
   "cell_type": "markdown",
   "id": "e96a58a6-c325-4ae8-9813-5efd2c53bb98",
   "metadata": {},
   "source": [
    "## Get all the necessary data in order to visualize"
   ]
  },
  {
   "cell_type": "code",
   "execution_count": 1,
   "id": "6570372d-6b02-493c-aea1-73ece438da0c",
   "metadata": {},
   "outputs": [
    {
     "name": "stdout",
     "output_type": "stream",
     "text": [
      "[*********************100%***********************]  10 of 10 completed\n"
     ]
    }
   ],
   "source": [
    "import pandas as pd\n",
    "import yfinance as yf\n",
    "import numpy as np\n",
    "# now just read the html to get all the S&P500 tickers \n",
    "dataload=pd.read_html('https://en.wikipedia.org/wiki/List_of_S%26P_500_companies')\n",
    "df = dataload[0]\n",
    "# now get the first column(tickers) from the above data\n",
    "# convert it into a list\n",
    "ticker_list = df['Symbol'][25:35].values.tolist()\n",
    "all_tickers = \" \".join(ticker_list)\n",
    "# get all the tickers from yfinance\n",
    "tickers = yf.Tickers(all_tickers)\n",
    "# set a start and end date to get two-years info\n",
    "# group by the ticker\n",
    "hist = tickers.history(start='2020-05-01', end='2022-05-01', group_by='ticker')\n",
    "stock_data = pd.DataFrame(hist.stack(level=0).reset_index().rename(columns = {'level_1':'Ticker'}))\n",
    "stock_data['DailyReturn'] = stock_data.sort_values(['Ticker', 'Date']).groupby('Ticker')['Close'].pct_change()\n",
    "# add the column for moving average daily return, set the moving days to 100 days\n",
    "stock_data['MovingAverageDailyReturn'] = stock_data.sort_values(['Ticker', 'Date']).groupby('Ticker')['DailyReturn'].rolling(100).mean().reset_index(0,drop=True) \n",
    "# Add a column containing the 100days moving average volume\n",
    "stock_data['MovingAverageVolume'] = stock_data.sort_values(['Ticker', 'Date']).groupby('Ticker')['Volume'].rolling(100).mean().reset_index(0,drop=True)\n",
    "# create a new Year column, to be the year period of each ticker\n",
    "stock_data['Year'] = stock_data.Date.dt.to_period(\"Y\")"
   ]
  },
  {
   "cell_type": "code",
   "execution_count": 3,
   "id": "18954cbf-7f63-42ce-a7f9-8c3fb7812cbe",
   "metadata": {},
   "outputs": [],
   "source": [
    "# Calculate the volume-weighted daily returns\n",
    "stock_data['VWDR'] = np.nan  # \n",
    "\n",
    "# function that calculates the volume weighted daily returns\n",
    "# input should be the dataframe\n",
    "def func_data(x):\n",
    "    x['test'] = x['Volume'] * x['DailyReturn'] / x['Volume'].cumsum()\n",
    "    return x\n",
    "# create a new column of volume-weighted daily returns, groupby ticker, and apply the above function\n",
    "stock_data['VWDR'] = stock_data.groupby(['Ticker']).apply(func_data).iloc[:, -1]"
   ]
  },
  {
   "cell_type": "code",
   "execution_count": 4,
   "id": "82fd2baa-4013-4679-91c3-81028ea5f6d1",
   "metadata": {},
   "outputs": [],
   "source": [
    "# create a reference data table, containing some useful information of 10 tickers\n",
    "reference_table = pd.DataFrame.from_dict({k: [yf.Ticker(ticker).info[k] for ticker in ticker_list] \\\n",
    "                                           for k in ['symbol', 'longName']})\n",
    "reference = reference_table.rename(columns={'symbol': 'Ticker', 'longName': 'Company'})\n",
    "\n",
    "# create a transaction table; The transactions span over 2-year period\n",
    "transactions = {'Date':['2020-05-26', '2020-05-27', '2020-07-30', '2021-01-18', '2021-03-17', '2021-05-21', '2021-09-30', '2021-11-22', '2021-12-06'\n",
    "                       , '2022-01-06', '2022-02-14'], \n",
    "                'Ticker': ['AMZN', 'GOOG', 'AMD', 'AMT', 'AMCR', 'AXP', 'GOOG', 'MO', 'AEP', 'AAL', 'AMZN'],\n",
    "               'Amount': [+2000, +2000, +1000, -2000, +1000, +2000, -1000, +1000, +1000, +2000, +1000],\n",
    "                'Buy/Sell': ['Buy', 'Buy', 'Buy', 'Sell', 'Buy', 'Buy', 'Sell', 'Buy', 'Buy', 'Buy', 'Buy']\n",
    "               }\n",
    "transactions_table = pd.DataFrame(transactions)\n",
    "transactions_table['Date'] = pd.to_datetime(transactions_table['Date'])  \n",
    "transactions_table['Position'] = transactions_table.groupby('Ticker')['Amount'].cumsum()"
   ]
  },
  {
   "cell_type": "code",
   "execution_count": 5,
   "id": "dae4a0f6-ad74-48e8-9df4-d2a14c7fb436",
   "metadata": {},
   "outputs": [],
   "source": [
    "def create_join_table(date):\n",
    "    # merge the transaction table with the reference table on Ticker, this is to get the company's name for each ticker\n",
    "    with_company_name = pd.merge(transactions_table[['Date', 'Ticker', 'Position']], reference[['Ticker', 'Company']], on=['Ticker'])\n",
    "    # now group by the Date and Ticker with the merge list, and filter through the Date less than the date passed-in\n",
    "    transaction_with_date = with_company_name.groupby(['Date', 'Ticker']).filter(lambda x: x.Date <= date)\n",
    "    # This is to make sure that the function will drop the ticker with Position <=0 (in case we sell the stock later)\n",
    "    transaction_to_drop = transaction_with_date[(transaction_with_date['Position'] <= 0)]\n",
    "    drop_list = transaction_to_drop['Ticker'].tolist()\n",
    "    if transaction_to_drop.shape[0] != 0:  # if we really have something in the transaction_to_drop\n",
    "        #drop the transations with negative position values\n",
    "        transaction_with_date.drop(transaction_with_date[(transaction_with_date['Position'] <= 0)].index, inplace=True)\n",
    "        #drop all other occurrences of the transactions to drop\n",
    "        for item in drop_list:\n",
    "            transaction_with_date.drop(transaction_with_date[(transaction_with_date['Ticker'] == item)].index, inplace=True)\n",
    "    # drop the first ticker, keep the last one (make it unique)\n",
    "    transaction_with_date.drop_duplicates(subset='Ticker', keep='last', inplace=True, ignore_index=False)\n",
    "    # pass the date entered to the transaction filter table\n",
    "    transaction_with_date['Date']= date\n",
    "    # convert the date to datetime (make sure it's datetime rather than object)\n",
    "    transaction_with_date['Date'] = pd.to_datetime(transaction_with_date['Date'])\n",
    "    # filter the stock historical data table to get the info on the date passed-in (do a filter)\n",
    "    stock_with_date = stock_data.groupby(['Date', 'Ticker']).filter(lambda x: x.Date == date)\n",
    "    # finally join the two list on inner\n",
    "    join_list = transaction_with_date.merge(stock_with_date[['Date','Ticker', 'Open', 'Volume', 'DailyReturn']], on = ['Date','Ticker'], how='inner')\n",
    "    return join_list"
   ]
  },
  {
   "cell_type": "code",
   "execution_count": 6,
   "id": "911d9017-26e0-4ae4-8932-2b9ac94e7110",
   "metadata": {},
   "outputs": [],
   "source": [
    "# now create a ‘scaffold’ table, which is the concatenation of the above function\n",
    "# for every business date over the two-year period.\n",
    "import numpy as np\n",
    "res = []  # initialize an empty result list to append the result later\n",
    "date_list = stock_data.Date.tolist()  # store the date from historical data table over two years to the date_list\n",
    "x = np.array(date_list)  # make the list an array\n",
    "unique_date_list = np.unique(x)  # we only include the unique date here\n",
    "for date in unique_date_list:  # using the for loop to append each dataframe result to the list\n",
    "    res.append(create_join_table(date))\n",
    "scaffold_table = pd.concat(res, ignore_index=True)  # concate the result list finally\n",
    "scaffold_table['Daily PnL'] = scaffold_table['DailyReturn'] * scaffold_table['Position']\n",
    "scaffold_table['Cumulative PnL/Ticker'] = scaffold_table.groupby(['Ticker'])['Daily PnL'].cumsum()"
   ]
  },
  {
   "cell_type": "markdown",
   "id": "cf400cd4-9ffa-4c4e-8fb0-bb93c17ca771",
   "metadata": {},
   "source": [
    "# ipywidgets Visualization"
   ]
  },
  {
   "cell_type": "code",
   "execution_count": 7,
   "id": "d1ab20b4-aa95-4221-900d-5d6625868b66",
   "metadata": {},
   "outputs": [],
   "source": [
    "from IPython.display import display\n",
    "import ipywidgets as widgets\n",
    "import plotly.graph_objects as go\n",
    "from plotly.subplots import make_subplots\n",
    "import numpy as np"
   ]
  },
  {
   "cell_type": "markdown",
   "id": "f5cf408f-3d22-4da3-9a00-5f880c7292bc",
   "metadata": {},
   "source": [
    "### Exercise 3 Part"
   ]
  },
  {
   "cell_type": "markdown",
   "id": "ee7a08c3-c66f-4fe0-b7d1-b7cf0dee7e4d",
   "metadata": {},
   "source": [
    "#### Overlay the 2 return (VWDR, MovingAverage) on the same plot\n",
    "#### Ticker List Overview"
   ]
  },
  {
   "cell_type": "code",
   "execution_count": 8,
   "id": "6707999c-a533-48c7-a26c-4749f7a1170e",
   "metadata": {},
   "outputs": [],
   "source": [
    "def DailyReturnBrowser(df):\n",
    "    # plot both daily returns, so make subplots\n",
    "    fig = make_subplots(specs=[[{\"secondary_y\": True}]])\n",
    "    \n",
    "    # a search engine for the tickers\n",
    "    search = widgets.Text(value = '', placeholder='Search string', description='', disabled=False, continuous_update=True)\n",
    "    \n",
    "    # create the dropdown box for the ticker selections\n",
    "    ticker = widgets.Dropdown(\n",
    "        options=sorted(list(df['Ticker'].unique())),\n",
    "        value=sorted(df['Ticker'].unique())[0],\n",
    "        description='Ticker: ',\n",
    "    )\n",
    "    \n",
    "    # display the use_year ticker search box and ticker dropdown box\n",
    "    container = widgets.HBox(children=[search, ticker])\n",
    "\n",
    "    # Assign an emptry figure widget with two traces\n",
    "    g = go.FigureWidget(fig, layout=go.Layout(\n",
    "                            width=1000, height=500,\n",
    "                            title=dict(\n",
    "                                text='Ticker Daily Return Overview'\n",
    "                            ),\n",
    "                        ))\n",
    "    \n",
    "    # create the line chart\n",
    "    g.add_scatter(name='Volume Weighted Daily Return')\n",
    "    g.add_scatter(name='Moving Average Daily Return', secondary_y=True)\n",
    "        \n",
    "    def response(change):\n",
    "            temp_df = df[(df['Ticker'] == ticker.value)]\n",
    "            with g.batch_update():\n",
    "                # the primary y-axis will be Volume Weighted Daily return\n",
    "                g.data[0].x = temp_df['Date'].tolist()\n",
    "                g.data[0].y = temp_df['VWDR'].tolist()\n",
    "                # the secondary y-axis will be Moving Average Daily Return (100 days)\n",
    "                g.data[1].x = temp_df['Date'].tolist()\n",
    "                g.data[1].y = temp_df['MovingAverageDailyReturn'].tolist()\n",
    "                g.layout.xaxis.title = 'Date'\n",
    "    \n",
    "    def chTicker(change):\n",
    "        if search.value:\n",
    "            ticker.options = sorted(df[df['Ticker'].str.contains(search.value)]['Ticker'].unique())\n",
    "        else:\n",
    "            ticker.options = sorted(list(df['Ticker'].unique()))\n",
    "    # these are to update each choice in the box selected by user        \n",
    "    ticker.observe(response, names='value')\n",
    "    search.observe(chTicker, names='value')\n",
    "                       \n",
    "    response(None)\n",
    "    chTicker(None)\n",
    "    # to display the boxes\n",
    "    display(container)\n",
    "    display(g)"
   ]
  },
  {
   "cell_type": "code",
   "execution_count": 9,
   "id": "1dce6a44-af75-4640-bd10-dfc0c1307797",
   "metadata": {},
   "outputs": [
    {
     "data": {
      "application/vnd.jupyter.widget-view+json": {
       "model_id": "7529841473724b888cb11c6878a1eeed",
       "version_major": 2,
       "version_minor": 0
      },
      "text/plain": [
       "HBox(children=(Text(value='', placeholder='Search string'), Dropdown(description='Ticker: ', options=('AAL', '…"
      ]
     },
     "metadata": {},
     "output_type": "display_data"
    },
    {
     "data": {
      "application/vnd.jupyter.widget-view+json": {
       "model_id": "4af78b633d1c499092c1023978b50f91",
       "version_major": 2,
       "version_minor": 0
      },
      "text/plain": [
       "FigureWidget({\n",
       "    'data': [{'name': 'Volume Weighted Daily Return',\n",
       "              'type': 'scatter',\n",
       "        …"
      ]
     },
     "metadata": {},
     "output_type": "display_data"
    }
   ],
   "source": [
    "DailyReturnBrowser(stock_data)"
   ]
  },
  {
   "cell_type": "markdown",
   "id": "e3f0a925-978d-439a-a06e-ac1bd7b70783",
   "metadata": {},
   "source": [
    "#### Moving Average Volume"
   ]
  },
  {
   "cell_type": "code",
   "execution_count": 10,
   "id": "55510203-0196-4ce6-b1c4-0cb3afc32eb0",
   "metadata": {},
   "outputs": [],
   "source": [
    "def MovingVolumeBrowser(df):\n",
    "\n",
    "    search = widgets.Text(value = '', placeholder='Search string', description='', disabled=False, continuous_update=True)\n",
    "        \n",
    "    ticker = widgets.Dropdown(\n",
    "        options=sorted(list(df['Ticker'].unique())),\n",
    "        value=sorted(df['Ticker'].unique())[0],\n",
    "        description='Ticker: ',\n",
    "    )\n",
    "    \n",
    "    # display the use_year ticker search box and ticker dropdown box\n",
    "    container = widgets.HBox(children=[search, ticker])\n",
    "\n",
    "    # Assign an emptry figure widget with two traces\n",
    "    g = go.FigureWidget(layout=go.Layout(\n",
    "                            width=1000, height=500,\n",
    "                            title=dict(\n",
    "                                text='Ticker Moving Average Volume (100 days)'\n",
    "                            ),\n",
    "                        ))\n",
    "    # create the line chart\n",
    "    g.add_scatter(name='Moving Average Volume')\n",
    "        \n",
    "    def response(change):\n",
    "            temp_df = df[(df['Ticker'] == ticker.value)]\n",
    "            with g.batch_update():\n",
    "                # x-axis to display the Date and y-axis to display the Moving Average Volume\n",
    "                g.data[0].x = temp_df['Date'].tolist()\n",
    "                g.data[0].y = temp_df['MovingAverageVolume'].tolist()\n",
    "                g.layout.xaxis.title = 'Date'\n",
    "                g.layout.yaxis.title = 'Moving Average Volume'\n",
    "                \n",
    "    \n",
    "    def chTicker(change):\n",
    "        if search.value:\n",
    "            ticker.options = sorted(df[df['Ticker'].str.contains(search.value)]['Ticker'].unique())\n",
    "        else:\n",
    "            ticker.options = sorted(list(df['Ticker'].unique()))\n",
    "    # these are to update each choice in the box selected by user        \n",
    "    ticker.observe(response, names='value')\n",
    "    search.observe(chTicker, names='value')\n",
    "                       \n",
    "    response(None)\n",
    "    chTicker(None)\n",
    "    # to display the boxes\n",
    "    display(container)\n",
    "    display(g)"
   ]
  },
  {
   "cell_type": "code",
   "execution_count": 11,
   "id": "6530da4d-8b89-4a39-bbd7-b204cbf985b9",
   "metadata": {},
   "outputs": [
    {
     "data": {
      "application/vnd.jupyter.widget-view+json": {
       "model_id": "b6742d94c2bc4cc1b03953916005c52e",
       "version_major": 2,
       "version_minor": 0
      },
      "text/plain": [
       "HBox(children=(Text(value='', placeholder='Search string'), Dropdown(description='Ticker: ', options=('AAL', '…"
      ]
     },
     "metadata": {},
     "output_type": "display_data"
    },
    {
     "data": {
      "application/vnd.jupyter.widget-view+json": {
       "model_id": "232ce9b25c7e4234890c1e870bd54217",
       "version_major": 2,
       "version_minor": 0
      },
      "text/plain": [
       "FigureWidget({\n",
       "    'data': [{'name': 'Moving Average Volume',\n",
       "              'type': 'scatter',\n",
       "              '…"
      ]
     },
     "metadata": {},
     "output_type": "display_data"
    }
   ],
   "source": [
    "MovingVolumeBrowser(stock_data)"
   ]
  },
  {
   "cell_type": "markdown",
   "id": "427b397a-1fba-4c68-b66e-475672ad711f",
   "metadata": {},
   "source": [
    "### Exercise 4 Part"
   ]
  },
  {
   "cell_type": "markdown",
   "id": "1e0baad9-7d06-4569-8023-33328a133587",
   "metadata": {},
   "source": [
    "#### The Two-year Distribution Plot of Daily Volume"
   ]
  },
  {
   "cell_type": "code",
   "execution_count": 12,
   "id": "9f47c2d5-c819-474b-9208-ccfa1691d9c3",
   "metadata": {},
   "outputs": [],
   "source": [
    "# instead of date, year would be selected in order to see the plot\n",
    "def VolumeBrowser(df):\n",
    "    # create a year slider to choose the year in order to display the Volume distribution\n",
    "    year = widgets.IntSlider(\n",
    "            description='Pick a Year',\n",
    "            value = 2020,  # make value to be the first year in the stock data\n",
    "            min = 2020,\n",
    "            max = 2022,\n",
    "            step=1.0,\n",
    "            disabled=False\n",
    "        )\n",
    "    use_year = widgets.Checkbox(\n",
    "        description='Use Year: ',\n",
    "        value=True,\n",
    "    )\n",
    "    # display the use_year check box and the year slider\n",
    "    container = widgets.HBox(children=[use_year, year])\n",
    "\n",
    "    search = widgets.Text(value = '', placeholder='Search string', description='', disabled=False, continuous_update=True)\n",
    "        \n",
    "    ticker = widgets.Dropdown(\n",
    "        options=sorted(list(df['Ticker'].unique())),\n",
    "        value=sorted(df['Ticker'].unique())[0],\n",
    "        description='Ticker: ',\n",
    "    )\n",
    "    \n",
    "    container2 = widgets.HBox(children=[search, ticker])\n",
    "    \n",
    "    # create a histogram for the distribution\n",
    "    trace1 = go.Histogram(x=df['Volume'], name='Arrival Delays')\n",
    "    \n",
    "    # Assign an emptry figure widget with two traces\n",
    "    g = go.FigureWidget(data=[trace1], layout=go.Layout(\n",
    "                            width=1000, height=500,\n",
    "                            title=dict(\n",
    "                                text='Distribution of Daily Volume'\n",
    "                            ),\n",
    "                        ))\n",
    "    \n",
    "    g.add_scatter(name='Daily Volume')\n",
    "    def response(change):\n",
    "        if use_year.value:\n",
    "            year.disabled = False\n",
    "            # if select year, make the volume displayed based on ticker and year\n",
    "            temp_df = df[(df['Ticker'] == ticker.value) & (df['Year'] == str(year.value))]\n",
    "            with g.batch_update():\n",
    "                g.data[0].x = temp_df['Volume'].tolist()\n",
    "                g.layout.xaxis.title = 'Volume'\n",
    "                g.layout.yaxis.title = 'Count'\n",
    "\n",
    "        else:\n",
    "            year.disabled = True\n",
    "            temp_df = df[(df['Ticker'] == ticker.value)]\n",
    "            with g.batch_update():\n",
    "                g.data[0].x = temp_df['Volume'].tolist()    \n",
    "                g.layout.xaxis.title = 'Volume'\n",
    "                g.layout.yaxis.title = 'Count'\n",
    "    \n",
    "    def chTicker(change):\n",
    "        if search.value:\n",
    "            ticker.options = sorted(df[df['Ticker'].str.contains(search.value)]['Ticker'].unique())\n",
    "        else:\n",
    "            ticker.options = sorted(list(df['Ticker'].unique()))\n",
    "    \n",
    "    # these are to update each choice in the box selected by user\n",
    "    year.observe(response, names='value')\n",
    "    use_year.observe(response, names='value')\n",
    "    ticker.observe(response, names='value')\n",
    "    search.observe(chTicker, names='value')\n",
    "    # to display the boxes\n",
    "    display(container)\n",
    "    display(container2)\n",
    "    display(g)"
   ]
  },
  {
   "cell_type": "code",
   "execution_count": 13,
   "id": "87ff043c-893f-4e53-9022-f6bc61bbb59b",
   "metadata": {},
   "outputs": [
    {
     "data": {
      "application/vnd.jupyter.widget-view+json": {
       "model_id": "3f2dda6e8abe4c258bfe10020ab56c37",
       "version_major": 2,
       "version_minor": 0
      },
      "text/plain": [
       "HBox(children=(Checkbox(value=True, description='Use Year: '), IntSlider(value=2020, description='Pick a Year'…"
      ]
     },
     "metadata": {},
     "output_type": "display_data"
    },
    {
     "data": {
      "application/vnd.jupyter.widget-view+json": {
       "model_id": "48807ec4e8bd442db68f624ba875f22a",
       "version_major": 2,
       "version_minor": 0
      },
      "text/plain": [
       "HBox(children=(Text(value='', placeholder='Search string'), Dropdown(description='Ticker: ', options=('AAL', '…"
      ]
     },
     "metadata": {},
     "output_type": "display_data"
    },
    {
     "data": {
      "application/vnd.jupyter.widget-view+json": {
       "model_id": "d1ac6abbdf094143bcbe8874ff5ae60b",
       "version_major": 2,
       "version_minor": 0
      },
      "text/plain": [
       "FigureWidget({\n",
       "    'data': [{'name': 'Arrival Delays',\n",
       "              'type': 'histogram',\n",
       "              'uid':…"
      ]
     },
     "metadata": {},
     "output_type": "display_data"
    }
   ],
   "source": [
    "VolumeBrowser(stock_data)"
   ]
  },
  {
   "cell_type": "markdown",
   "id": "25ee8201-1ca8-456e-834f-9ecc7c2db59d",
   "metadata": {},
   "source": [
    "### Exercise 5 Part"
   ]
  },
  {
   "cell_type": "markdown",
   "id": "ab80ee65-fa38-4104-96d9-3c1b8f7f8d7a",
   "metadata": {},
   "source": [
    "#### cumulative PnL for each ticker from my portfolio"
   ]
  },
  {
   "cell_type": "code",
   "execution_count": 14,
   "id": "5b662cb2-6816-430b-8267-e64520fe44fb",
   "metadata": {},
   "outputs": [],
   "source": [
    "def PnLBrowser(df):\n",
    "\n",
    "    search = widgets.Text(value = '', placeholder='Search string', description='', disabled=False, continuous_update=True)\n",
    "        \n",
    "    ticker = widgets.Dropdown(\n",
    "        options=sorted(list(df['Ticker'].unique())),\n",
    "        value=sorted(df['Ticker'].unique())[0],\n",
    "        description='Ticker: ',\n",
    "    )\n",
    "    \n",
    "    # display the use_year ticker search box and ticker dropdown box\n",
    "    # could select the ticker to view the Cumulative PnL of that Ticker (much cleaner!)\n",
    "    container = widgets.HBox(children=[search, ticker])\n",
    "\n",
    "    # Assign an emptry figure widget with two traces\n",
    "    g = go.FigureWidget(layout=go.Layout(\n",
    "                            width=1000, height=500,\n",
    "                            title=dict(\n",
    "                                text='Cumulative PnL Overview'\n",
    "                            ),\n",
    "                        ))\n",
    "    # create the line chart\n",
    "    g.add_scatter(name='Cumulative PnL')\n",
    "        \n",
    "    def response(change):\n",
    "            temp_df = df[(df['Ticker'] == ticker.value)]\n",
    "            with g.batch_update():\n",
    "                # x-axis to display the Date and y-axis to display the Moving Average Volume\n",
    "                g.data[0].x = temp_df['Date'].tolist()\n",
    "                g.data[0].y = temp_df['Cumulative PnL/Ticker'].tolist()\n",
    "                g.layout.xaxis.title = 'Date'\n",
    "                g.layout.yaxis.title = 'Cumulative PnL'\n",
    "    \n",
    "    def chTicker(change):\n",
    "        if search.value:\n",
    "            ticker.options = sorted(df[df['Ticker'].str.contains(search.value)]['Ticker'].unique())\n",
    "        else:\n",
    "            ticker.options = sorted(list(df['Ticker'].unique()))\n",
    "    # these are to update each choice in the box selected by user        \n",
    "    ticker.observe(response, names='value')\n",
    "    search.observe(chTicker, names='value')\n",
    "                       \n",
    "    response(None)\n",
    "    chTicker(None)\n",
    "    # to display the boxes\n",
    "    display(container)\n",
    "    display(g)"
   ]
  },
  {
   "cell_type": "code",
   "execution_count": 15,
   "id": "269d4ad6-c7ae-4361-b5e2-8d9670b07602",
   "metadata": {},
   "outputs": [
    {
     "data": {
      "application/vnd.jupyter.widget-view+json": {
       "model_id": "b7c6512793d843d38ba22927070cd407",
       "version_major": 2,
       "version_minor": 0
      },
      "text/plain": [
       "HBox(children=(Text(value='', placeholder='Search string'), Dropdown(description='Ticker: ', options=('AAL', '…"
      ]
     },
     "metadata": {},
     "output_type": "display_data"
    },
    {
     "data": {
      "application/vnd.jupyter.widget-view+json": {
       "model_id": "d1a7162ab58c482b9a18e32a6f0173e4",
       "version_major": 2,
       "version_minor": 0
      },
      "text/plain": [
       "FigureWidget({\n",
       "    'data': [{'name': 'Cumulative PnL',\n",
       "              'type': 'scatter',\n",
       "              'uid': '…"
      ]
     },
     "metadata": {},
     "output_type": "display_data"
    }
   ],
   "source": [
    "PnLBrowser(scaffold_table)"
   ]
  },
  {
   "cell_type": "code",
   "execution_count": 16,
   "id": "b9a3e6bc-45b2-4c96-895d-0c4aa0dbf65f",
   "metadata": {},
   "outputs": [],
   "source": [
    "def PnLScatterBrowser(df):\n",
    "\n",
    "    search = widgets.Text(value = '', placeholder='Search string', description='', disabled=False, continuous_update=True)\n",
    "        \n",
    "    ticker = widgets.Dropdown(\n",
    "        options=sorted(list(df['Ticker'].unique())),\n",
    "        value=sorted(df['Ticker'].unique())[0],\n",
    "        description='Ticker: ',\n",
    "    )\n",
    "    \n",
    "    # display the use_year ticker search box and ticker dropdown box\n",
    "    # could select the ticker to view the Cumulative PnL of that Ticker (much cleaner!)\n",
    "    container = widgets.HBox(children=[search, ticker])\n",
    "\n",
    "    # Assign an emptry figure widget with two traces\n",
    "    g = go.FigureWidget(layout=go.Layout(\n",
    "                            width=1000, height=500,\n",
    "                            title=dict(\n",
    "                                text='Daily PnL (year1 vs year2)'\n",
    "                            ),\n",
    "                        ))\n",
    "    # create the scatter plot, set the mode to markers\n",
    "    g.add_scatter(name='Cumulative PnL', mode='markers')\n",
    "    \n",
    "    # these are the dates of the first half of each ticker's purchased duration\n",
    "    # will be used to display the first half vs second half PnL scatter plot\n",
    "    dict_first_half = {'AMZN': '2021-05-13', 'GOOG':'2021-05-13', 'AMD':'2021-06-15', 'AMCR':'2021-10-07', \n",
    "                  'AXP':'2021-11-09', 'MO':'2022-02-09', 'AEP':'2022-02-16', 'AAL':'2022-03-03'}\n",
    "    \n",
    "    def response(change):\n",
    "            temp_df = df[(df['Ticker'] == ticker.value)]\n",
    "            with g.batch_update():\n",
    "                # x-axis to display the daily PnL of the first half and y-axis to display that of the second half\n",
    "                g.data[0].x = temp_df[temp_df.Date < dict_first_half[ticker.value]]['Daily PnL'].tolist()\n",
    "                g.data[0].y = temp_df[temp_df.Date >= dict_first_half[ticker.value]]['Daily PnL'].tolist()\n",
    "                # create a title for x and y-axis\n",
    "                g.layout.xaxis.title = 'First Half PnL'\n",
    "                g.layout.yaxis.title = 'Second Half PnL'\n",
    "                \n",
    "    \n",
    "    def chTicker(change):\n",
    "        if search.value:\n",
    "            ticker.options = sorted(df[df['Ticker'].str.contains(search.value)]['Ticker'].unique())\n",
    "        else:\n",
    "            ticker.options = sorted(list(df['Ticker'].unique()))\n",
    "            \n",
    "    # these are to update each choice in the box selected by user        \n",
    "    ticker.observe(response, names='value')\n",
    "    search.observe(chTicker, names='value')\n",
    "                       \n",
    "    response(None)\n",
    "    chTicker(None)\n",
    "    # to display the boxes\n",
    "    display(container)\n",
    "    display(g)"
   ]
  },
  {
   "cell_type": "code",
   "execution_count": 17,
   "id": "2f5ed6a9-466b-48d9-933e-ff42c2e3e762",
   "metadata": {},
   "outputs": [
    {
     "data": {
      "application/vnd.jupyter.widget-view+json": {
       "model_id": "d0e4fe4b84e44f0786e740c7891d55c3",
       "version_major": 2,
       "version_minor": 0
      },
      "text/plain": [
       "HBox(children=(Text(value='', placeholder='Search string'), Dropdown(description='Ticker: ', options=('AAL', '…"
      ]
     },
     "metadata": {},
     "output_type": "display_data"
    },
    {
     "data": {
      "application/vnd.jupyter.widget-view+json": {
       "model_id": "b404d37fc29d42e18301f7aee48fbc39",
       "version_major": 2,
       "version_minor": 0
      },
      "text/plain": [
       "FigureWidget({\n",
       "    'data': [{'mode': 'markers',\n",
       "              'name': 'Cumulative PnL',\n",
       "              'type': …"
      ]
     },
     "metadata": {},
     "output_type": "display_data"
    }
   ],
   "source": [
    "PnLScatterBrowser(scaffold_table)"
   ]
  },
  {
   "cell_type": "code",
   "execution_count": null,
   "id": "f0c96c04-18b1-4645-9ce2-0ec87b64ec93",
   "metadata": {},
   "outputs": [],
   "source": []
  }
 ],
 "metadata": {
  "kernelspec": {
   "display_name": "Python 3 (ipykernel)",
   "language": "python",
   "name": "python3"
  },
  "language_info": {
   "codemirror_mode": {
    "name": "ipython",
    "version": 3
   },
   "file_extension": ".py",
   "mimetype": "text/x-python",
   "name": "python",
   "nbconvert_exporter": "python",
   "pygments_lexer": "ipython3",
   "version": "3.9.12"
  }
 },
 "nbformat": 4,
 "nbformat_minor": 5
}
